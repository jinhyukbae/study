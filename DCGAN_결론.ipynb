{
  "nbformat": 4,
  "nbformat_minor": 0,
  "metadata": {
    "colab": {
      "provenance": []
    },
    "kernelspec": {
      "name": "python3",
      "display_name": "Python 3"
    },
    "language_info": {
      "name": "python"
    }
  },
  "cells": [
    {
      "cell_type": "code",
      "execution_count": null,
      "metadata": {
        "id": "WJvSpAkycpyd"
      },
      "outputs": [],
      "source": []
    },
    {
      "cell_type": "markdown",
      "source": [
        "# DCGAN 결론\n",
        "\n",
        "## 학습을 위해 노력한 점\n",
        "* 학습률,beta값,에포크를 조정하면서 돌려본 결과 학습률 0.002 beta값 (0.7,0.999) , 에포크 100번이 가장 최적의 결과를 보였다.\n",
        "\n",
        "## 개선할 점\n",
        "\n",
        "* 결과의 해상도를 좀더 높이는 방향으로의 개선이 필요할 것 같다.\n",
        "  * PGGAN, D2GAN등의 모델 사용 etc..\n",
        "\n",
        "* PGGAN\n",
        "![image.png](https://raw.githubusercontent.com/jinhyukbae/playdata/main/miniproject/pggan2.png)\n",
        "\n",
        "* 저해상도 이미지 부터 시작해서 점차 레이어를 추가하여 고해상도 이미지를 생성하는 PGGAN\n",
        "\n",
        "\n",
        "* D2GAN\n",
        "\n",
        "![image.png](https://raw.githubusercontent.com/jinhyukbae/playdata/main/miniproject/%EB%B9%84%EA%B5%90.PNG)\n",
        "* D2GAN : DCGAN PGGAN 보다 성능이 좋은 D2GAN\n",
        "* D2GAN 논문 출처 : https://www.kci.go.kr/kciportal/ci/sereArticleSearch/ciSereArtiView.kci?sereArticleSearchBean.artiId=ART002898695\n",
        "\n",
        "\n",
        "* GAN 의 발달과정 https://doooob.tistory.com/173\n",
        "  * GAN -> DCGAN ->SAGAN  -> STYLEGAN -> PGGAN -> BIGAN -> D2GAN -> MGAN 순으로 진화 되었다고 나와 있다.\n",
        "\n",
        "\n"
      ],
      "metadata": {
        "id": "SvgvIzgdcquk"
      }
    },
    {
      "cell_type": "code",
      "source": [],
      "metadata": {
        "id": "ayXHtdcxhezU"
      },
      "execution_count": null,
      "outputs": []
    }
  ]
}