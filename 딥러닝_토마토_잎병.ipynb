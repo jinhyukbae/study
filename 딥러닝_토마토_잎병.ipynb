{
  "metadata": {
    "kernelspec": {
      "language": "python",
      "display_name": "Python 3",
      "name": "python3"
    },
    "language_info": {
      "name": "python",
      "version": "3.7.12",
      "mimetype": "text/x-python",
      "codemirror_mode": {
        "name": "ipython",
        "version": 3
      },
      "pygments_lexer": "ipython3",
      "nbconvert_exporter": "python",
      "file_extension": ".py"
    },
    "colab": {
      "provenance": []
    }
  },
  "nbformat_minor": 0,
  "nbformat": 4,
  "cells": [
    {
      "cell_type": "markdown",
      "source": [
        "# 토마토 잎병 데이터\n",
        "\n",
        "* 10개의 질병과 1개의 건강한 클래스로 되어있는 2만개 이상의 토마토 사진 데이터를 딥러닝을 이용해 분류하는 것이 목표입니다.\n"
      ],
      "metadata": {
        "id": "QgEDaiT9eEea"
      }
    },
    {
      "cell_type": "markdown",
      "source": [
        "* 클래스\n",
        "    * Bacterial_spot 박테리아스팟\n",
        "    * Early_blight 곰팡이로 인한 병; 잎에 반점이 생기거나 잎이 탈락하거나 발육 불량이 되는 것이 특징.\n",
        "    * Late_blight 잎 마름 병\n",
        "    * Leaf_Mold 부엽토, 부식토\n",
        "    * Septoria_leaf_spot 흰무니병?\n",
        "    * Spider_mites Two-spotted_spider_mite 두 점박이 응애 해충에 일종인데 잎에 반점 같은 손상을 입히는 듯?\n",
        "    * Target_Spot 곰팡이 병원균인 Corynespora cassiicola에 의해 발생함 반점\n",
        "    * Tomato_Yellow_Leaf_Curl_Virus 토마토황화잎말림바이러스 가루이 라는 벌레 한테 전염 됨 \n",
        "    * healthy 건강한 토마토\n",
        "    * powdery_mildew 흰가루병\n"
      ],
      "metadata": {
        "id": "HxWvplbJeEec"
      }
    },
    {
      "cell_type": "code",
      "source": [
        "import pandas as pd\n",
        "import matplotlib.pyplot as plt\n",
        "import random\n",
        "import numpy as np\n",
        "import torch\n",
        "import torch.nn as nn\n",
        "import torch.utils.data as Data\n",
        "import torch.optim as optim\n",
        "import typing\n",
        "import torchvision\n",
        "import torchvision.transforms as transforms\n",
        "import os\n",
        "import gc\n",
        "from tqdm import tqdm # 셀 진행 상황을 알려줌 "
      ],
      "metadata": {
        "_uuid": "8f2839f25d086af736a60e9eeb907d3b93b6e0e5",
        "_cell_guid": "b1076dfc-b9ad-4769-8c92-a6c4dae69d19",
        "execution": {
          "iopub.status.busy": "2023-01-07T13:49:17.359989Z",
          "iopub.execute_input": "2023-01-07T13:49:17.360489Z",
          "iopub.status.idle": "2023-01-07T13:49:19.603800Z",
          "shell.execute_reply.started": "2023-01-07T13:49:17.360415Z",
          "shell.execute_reply": "2023-01-07T13:49:19.602712Z"
        },
        "trusted": true,
        "id": "dfNOXV6oeEed"
      },
      "execution_count": null,
      "outputs": []
    },
    {
      "cell_type": "code",
      "source": [
        "# 훈련 데이터를 변환합니다. \n",
        "train_dataset = torchvision.datasets.ImageFolder(root = r\"/kaggle/input/tomato/train\",\n",
        "                                                 transform = torchvision.transforms.Compose(\n",
        "                                                [torchvision.transforms.Resize((256,256)),\n",
        "                                                torchvision.transforms.ToTensor(),\n",
        "                                                torchvision.transforms.Normalize(mean=[0.5, 0.5, 0.5],\n",
        "                                                                     std=[0.5, 0.5, 0.5])]))\n",
        "\n",
        "\n",
        "\n",
        "\n",
        "# transforms.Compose 데이터를 여러 단계로 변환해야 하는 경우, Compose를 통해 여러 단계를 묶을 수 있다.(리사이즈,투텐서,노말라이즈를 안에 넣기 위함)\n",
        "# Normalize(정규화) 안해주고 ToTensor만 하면 범위가 0~1사이의 픽셀로 변환됨(transforms)\n",
        "#transofrms.Normalize((R채널 평균, G채널 평균, B채널 평균), (R채널 표준편차, G채널 표준편차, B채널 표준편차)) 0.5씩 해주면\n",
        "# -1~1사이의 픽셀로 변환 \n",
        "# 정규화를 하는 이유 오차역전파시 gradient 계산을 수행할 때 데이터가 유사한 범위를 가지게 하기 위함 \n",
        "train_dataset[0][0].shape # 색상3 세로 256 가로 256의 텐서화된 데이터 "
      ],
      "metadata": {
        "execution": {
          "iopub.status.busy": "2023-01-07T13:49:19.664735Z",
          "iopub.execute_input": "2023-01-07T13:49:19.665194Z",
          "iopub.status.idle": "2023-01-07T13:49:39.532362Z",
          "shell.execute_reply.started": "2023-01-07T13:49:19.665147Z",
          "shell.execute_reply": "2023-01-07T13:49:39.531394Z"
        },
        "trusted": true,
        "id": "4Ak1rVkVeEee",
        "outputId": "9170afe7-260b-4617-dfed-81a06a759558"
      },
      "execution_count": null,
      "outputs": [
        {
          "execution_count": 2,
          "output_type": "execute_result",
          "data": {
            "text/plain": "torch.Size([3, 256, 256])"
          },
          "metadata": {}
        }
      ]
    },
    {
      "cell_type": "code",
      "source": [
        "train_dataset.classes\n"
      ],
      "metadata": {
        "execution": {
          "iopub.status.busy": "2023-01-07T13:49:39.534145Z",
          "iopub.execute_input": "2023-01-07T13:49:39.535138Z",
          "iopub.status.idle": "2023-01-07T13:49:39.542451Z",
          "shell.execute_reply.started": "2023-01-07T13:49:39.535099Z",
          "shell.execute_reply": "2023-01-07T13:49:39.541297Z"
        },
        "trusted": true,
        "id": "8U8ptBEGeEee",
        "outputId": "fff2104c-edd2-453f-b3c3-0a9213b0b57e"
      },
      "execution_count": null,
      "outputs": [
        {
          "execution_count": 3,
          "output_type": "execute_result",
          "data": {
            "text/plain": "['Bacterial_spot',\n 'Early_blight',\n 'Late_blight',\n 'Leaf_Mold',\n 'Septoria_leaf_spot',\n 'Spider_mites Two-spotted_spider_mite',\n 'Target_Spot',\n 'Tomato_Yellow_Leaf_Curl_Virus',\n 'Tomato_mosaic_virus',\n 'healthy',\n 'powdery_mildew']"
          },
          "metadata": {}
        }
      ]
    },
    {
      "cell_type": "markdown",
      "source": [],
      "metadata": {
        "id": "PWXpTleWeEef"
      }
    },
    {
      "cell_type": "code",
      "source": [
        "# 테스트 데이터를 변환합니다.\n",
        "test_dataset = torchvision.datasets.ImageFolder(root=\"/kaggle/input/tomato/valid\",\n",
        "                                                transform = torchvision.transforms.Compose(\n",
        "                                                [torchvision.transforms.Resize((256,256)),\n",
        "                                                torchvision.transforms.ToTensor(),\n",
        "                                                torchvision.transforms.Normalize(mean=[0.5,0.5,0.5],std=[0.5,0.5,0.5])\n",
        "                                                ]\n",
        "                                                \n",
        "                                                )\n",
        "                                               \n",
        "                                               \n",
        "                                               \n",
        "                                               \n",
        "                                               \n",
        "                                               \n",
        "                                               \n",
        "                                               \n",
        "                                               )"
      ],
      "metadata": {
        "execution": {
          "iopub.status.busy": "2023-01-07T13:49:44.399745Z",
          "iopub.execute_input": "2023-01-07T13:49:44.400443Z",
          "iopub.status.idle": "2023-01-07T13:49:48.526669Z",
          "shell.execute_reply.started": "2023-01-07T13:49:44.400406Z",
          "shell.execute_reply": "2023-01-07T13:49:48.525685Z"
        },
        "trusted": true,
        "id": "TKKg6JbaeEef"
      },
      "execution_count": null,
      "outputs": []
    },
    {
      "cell_type": "code",
      "source": [
        "test_dataset[0][0].shape"
      ],
      "metadata": {
        "execution": {
          "iopub.status.busy": "2023-01-07T13:49:48.528772Z",
          "iopub.execute_input": "2023-01-07T13:49:48.529433Z",
          "iopub.status.idle": "2023-01-07T13:49:48.544661Z",
          "shell.execute_reply.started": "2023-01-07T13:49:48.529396Z",
          "shell.execute_reply": "2023-01-07T13:49:48.543580Z"
        },
        "trusted": true,
        "id": "wJesTZbMeEef",
        "outputId": "58c74ce0-d905-421a-ae2f-fcceb3251f47"
      },
      "execution_count": null,
      "outputs": [
        {
          "execution_count": 5,
          "output_type": "execute_result",
          "data": {
            "text/plain": "torch.Size([3, 256, 256])"
          },
          "metadata": {}
        }
      ]
    },
    {
      "cell_type": "code",
      "source": [
        "Batch_size=4\n",
        "\n",
        "dl_train =torch.utils.data.DataLoader(\n",
        "        train_dataset,\n",
        "        batch_size=Batch_size,\n",
        "        shuffle=True\n",
        "\n",
        ")\n",
        "\n",
        "dl_test = torch.utils.data.DataLoader(\n",
        "        test_dataset,\n",
        "        batch_size=Batch_size,\n",
        "        shuffle=True\n",
        "    \n",
        ")"
      ],
      "metadata": {
        "execution": {
          "iopub.status.busy": "2023-01-07T13:49:48.546427Z",
          "iopub.execute_input": "2023-01-07T13:49:48.546797Z",
          "iopub.status.idle": "2023-01-07T13:49:48.552362Z",
          "shell.execute_reply.started": "2023-01-07T13:49:48.546762Z",
          "shell.execute_reply": "2023-01-07T13:49:48.551334Z"
        },
        "trusted": true,
        "id": "cKVGBv-_eEeg"
      },
      "execution_count": null,
      "outputs": []
    },
    {
      "cell_type": "code",
      "source": [
        "model=torchvision.models.efficientnet_b7(pretrained=True) \n",
        "n_inputs = model.classifier[1].in_features #입력층 in_features input sample의 size\n",
        "model.classifier[1]=nn.Linear(n_inputs,11) #출력층 11(클래스가 11개니까)\n",
        "# nn.Linear(input,output)인풋과 아웃풋을 선형 결합"
      ],
      "metadata": {
        "execution": {
          "iopub.status.busy": "2023-01-07T15:59:01.575173Z",
          "iopub.execute_input": "2023-01-07T15:59:01.575545Z",
          "iopub.status.idle": "2023-01-07T15:59:15.763990Z",
          "shell.execute_reply.started": "2023-01-07T15:59:01.575514Z",
          "shell.execute_reply": "2023-01-07T15:59:15.762957Z"
        },
        "trusted": true,
        "id": "JaXIMA-teEeg",
        "outputId": "4ed86797-2445-4fde-c3bf-0fc9002b3db0",
        "colab": {
          "referenced_widgets": [
            "a26a3f44256b4c27b79704d178c5ab53"
          ]
        }
      },
      "execution_count": null,
      "outputs": [
        {
          "name": "stderr",
          "text": "Downloading: \"https://download.pytorch.org/models/efficientnet_b7_lukemelas-dcc49843.pth\" to /root/.cache/torch/hub/checkpoints/efficientnet_b7_lukemelas-dcc49843.pth\n",
          "output_type": "stream"
        },
        {
          "output_type": "display_data",
          "data": {
            "text/plain": "  0%|          | 0.00/255M [00:00<?, ?B/s]",
            "application/vnd.jupyter.widget-view+json": {
              "version_major": 2,
              "version_minor": 0,
              "model_id": "a26a3f44256b4c27b79704d178c5ab53"
            }
          },
          "metadata": {}
        }
      ]
    },
    {
      "cell_type": "markdown",
      "source": [
        "## efficientnet_b7 model\n",
        "![image.png](attachment:bf0de25f-9c9f-4aa1-924f-d6dcd80845a4.png)"
      ],
      "metadata": {
        "id": "0w5hx7OpeEeg"
      }
    },
    {
      "cell_type": "code",
      "source": [
        "loss_fn =nn.CrossEntropyLoss() # 다중분류 대표적인 함수 크로스엔트로피함수를 씁니다.\n",
        "optim = torch.optim.Adam(model.parameters(), lr=0.0001) \n",
        "# 최적화알고리즘 Adam 사용 모델 내부정보를 넘겨주는 model.parameters 와 학습률 0.0001 설정\n",
        "if torch.cuda.is_available():model.to('cuda') #gpu 사용 가능 상태면 -> gpu 사용\n",
        "    \n",
        "\n"
      ],
      "metadata": {
        "execution": {
          "iopub.status.busy": "2023-01-07T15:59:30.058474Z",
          "iopub.execute_input": "2023-01-07T15:59:30.058848Z",
          "iopub.status.idle": "2023-01-07T15:59:30.170721Z",
          "shell.execute_reply.started": "2023-01-07T15:59:30.058816Z",
          "shell.execute_reply": "2023-01-07T15:59:30.169493Z"
        },
        "trusted": true,
        "id": "gm30aVCaeEeg"
      },
      "execution_count": null,
      "outputs": []
    },
    {
      "cell_type": "code",
      "source": [
        "def fit(epoch, model, trainloader, testloader):\n",
        "    correct = 0 # 정답을 넣을 곳\n",
        "    total = 0\n",
        "    running_loss = 0\n",
        "    model.train()\n",
        "    for x, y in tqdm(trainloader): #x 데이터 y 정답 \n",
        "        if torch.cuda.is_available():\n",
        "            x, y = x.to('cuda'), y.to('cuda')\n",
        "        y_pred = model(x)\n",
        "        loss = loss_fn(y_pred, y) #예측값과 실제값 오차 구하기\n",
        "        optim.zero_grad() # 오차역전파 하기 전에 기울기 초기화\n",
        "        loss.backward() # 오차역전파\n",
        "        optim.step() # 오차역전파한 값으로 정의한 알고리즘에 맞추어 가중치를 수정\n",
        "        with torch.no_grad(): #with이 끝날 때 까지만 기울기 계산\n",
        "            y_pred = torch.argmax(y_pred, dim=1) # argmax 가장 큰 값을 가지는 dim=1(열)을 반환 \n",
        "            correct += (y_pred == y).sum().item() #예측값 = 진짜값인 것들을 다 더해서 스칼라화 한 후 correct에 넣기 \n",
        "            total += y.size(0)\n",
        "            running_loss += loss.item()\n",
        "\n",
        "    epoch_loss = running_loss / len(trainloader.dataset)\n",
        "    epoch_acc = correct / total\n",
        "\n",
        "    test_correct = 0\n",
        "    test_total = 0\n",
        "    test_running_loss = 0\n",
        "    model.eval()\n",
        "    with torch.no_grad():\n",
        "        for x, y in tqdm(testloader):\n",
        "            if torch.cuda.is_available():\n",
        "                x, y = x.to('cuda'), y.to('cuda')\n",
        "            y_pred = model(x)\n",
        "            loss = loss_fn(y_pred, y)\n",
        "            y_pred = torch.argmax(y_pred, dim=1)\n",
        "            test_correct += (y_pred == y).sum().item()\n",
        "            test_total += y.size(0)\n",
        "            test_running_loss += loss.item()\n",
        "\n",
        "    epoch_test_loss = test_running_loss / len(testloader.dataset)\n",
        "    epoch_test_acc = test_correct / test_total\n",
        "\n",
        "    print('epoch: ', epoch,\n",
        "          'loss： ', round(epoch_loss, 3),\n",
        "          'accuracy:', round(epoch_acc, 3),\n",
        "          'test_loss： ', round(epoch_test_loss, 3),\n",
        "          'test_accuracy:', round(epoch_test_acc, 3)\n",
        "          )\n",
        "\n",
        "    return epoch_loss, epoch_acc, epoch_test_loss, epoch_test_acc"
      ],
      "metadata": {
        "execution": {
          "iopub.status.busy": "2023-01-07T15:59:30.583088Z",
          "iopub.execute_input": "2023-01-07T15:59:30.584217Z",
          "iopub.status.idle": "2023-01-07T15:59:30.934921Z",
          "shell.execute_reply.started": "2023-01-07T15:59:30.584169Z",
          "shell.execute_reply": "2023-01-07T15:59:30.933576Z"
        },
        "trusted": true,
        "id": "J3AcA--NeEeh"
      },
      "execution_count": null,
      "outputs": []
    },
    {
      "cell_type": "code",
      "source": [
        "epochs = 10\n",
        "\n",
        "train_loss = []\n",
        "train_acc = []\n",
        "test_loss = []\n",
        "test_acc = []\n",
        "\n",
        "for epoch in range(epochs):\n",
        "    gc.collect() #가비지 콜렉션\n",
        "    torch.cuda.empty_cache() # 사용되지 않는 GPU상 cache를 정리\n",
        "    epoch_loss, epoch_acc, epoch_test_loss, epoch_test_acc = fit(epoch,\n",
        "                                                                 model,\n",
        "                                                                 dl_train,\n",
        "                                                                 dl_test\n",
        "                                                                )\n",
        "    torch.save(model.state_dict(), os.path.join(r\"/kaggle/working/\",\"acc\"+ str(epoch_test_acc) + \".pt\"))\n",
        "    # model.state_dict()로 가중치 저장한 값을 torch.save로 파일로 저장\n",
        "    train_loss.append(epoch_loss)\n",
        "    train_acc.append(epoch_acc)\n",
        "    test_loss.append(epoch_test_loss)\n",
        "    test_acc.append(epoch_test_acc)"
      ],
      "metadata": {
        "execution": {
          "iopub.status.busy": "2023-01-07T15:59:40.108167Z",
          "iopub.execute_input": "2023-01-07T15:59:40.108533Z",
          "iopub.status.idle": "2023-01-07T20:21:10.778521Z",
          "shell.execute_reply.started": "2023-01-07T15:59:40.108501Z",
          "shell.execute_reply": "2023-01-07T20:21:10.777431Z"
        },
        "trusted": true,
        "id": "lpCUqNnYeEeh",
        "outputId": "cfb091ee-1840-44c0-8faa-8f898539b4b5"
      },
      "execution_count": null,
      "outputs": [
        {
          "name": "stderr",
          "text": "100%|██████████| 6463/6463 [24:13<00:00,  4.45it/s]\n100%|██████████| 1671/1671 [01:45<00:00, 15.77it/s]\n",
          "output_type": "stream"
        },
        {
          "name": "stdout",
          "text": "epoch:  0 loss：  0.13 accuracy: 0.836 test_loss：  0.043 test_accuracy: 0.949\n",
          "output_type": "stream"
        },
        {
          "name": "stderr",
          "text": "100%|██████████| 6463/6463 [24:19<00:00,  4.43it/s]\n100%|██████████| 1671/1671 [01:46<00:00, 15.74it/s]\n",
          "output_type": "stream"
        },
        {
          "name": "stdout",
          "text": "epoch:  1 loss：  0.042 accuracy: 0.947 test_loss：  0.04 test_accuracy: 0.958\n",
          "output_type": "stream"
        },
        {
          "name": "stderr",
          "text": "100%|██████████| 6463/6463 [24:21<00:00,  4.42it/s]\n100%|██████████| 1671/1671 [01:46<00:00, 15.65it/s]\n",
          "output_type": "stream"
        },
        {
          "name": "stdout",
          "text": "epoch:  2 loss：  0.026 accuracy: 0.967 test_loss：  0.049 test_accuracy: 0.948\n",
          "output_type": "stream"
        },
        {
          "name": "stderr",
          "text": "100%|██████████| 6463/6463 [24:17<00:00,  4.43it/s]\n100%|██████████| 1671/1671 [01:45<00:00, 15.88it/s]\n",
          "output_type": "stream"
        },
        {
          "name": "stdout",
          "text": "epoch:  3 loss：  0.018 accuracy: 0.977 test_loss：  0.052 test_accuracy: 0.951\n",
          "output_type": "stream"
        },
        {
          "name": "stderr",
          "text": "100%|██████████| 6463/6463 [24:23<00:00,  4.42it/s]\n100%|██████████| 1671/1671 [01:45<00:00, 15.78it/s]\n",
          "output_type": "stream"
        },
        {
          "name": "stdout",
          "text": "epoch:  4 loss：  0.014 accuracy: 0.983 test_loss：  0.046 test_accuracy: 0.955\n",
          "output_type": "stream"
        },
        {
          "name": "stderr",
          "text": "100%|██████████| 6463/6463 [24:19<00:00,  4.43it/s]\n100%|██████████| 1671/1671 [01:45<00:00, 15.81it/s]\n",
          "output_type": "stream"
        },
        {
          "name": "stdout",
          "text": "epoch:  5 loss：  0.013 accuracy: 0.985 test_loss：  0.054 test_accuracy: 0.953\n",
          "output_type": "stream"
        },
        {
          "name": "stderr",
          "text": "100%|██████████| 6463/6463 [24:23<00:00,  4.42it/s]\n100%|██████████| 1671/1671 [01:46<00:00, 15.73it/s]\n",
          "output_type": "stream"
        },
        {
          "name": "stdout",
          "text": "epoch:  6 loss：  0.011 accuracy: 0.987 test_loss：  0.043 test_accuracy: 0.969\n",
          "output_type": "stream"
        },
        {
          "name": "stderr",
          "text": "100%|██████████| 6463/6463 [24:25<00:00,  4.41it/s]\n100%|██████████| 1671/1671 [01:46<00:00, 15.68it/s]\n",
          "output_type": "stream"
        },
        {
          "name": "stdout",
          "text": "epoch:  7 loss：  0.01 accuracy: 0.988 test_loss：  0.048 test_accuracy: 0.961\n",
          "output_type": "stream"
        },
        {
          "name": "stderr",
          "text": "100%|██████████| 6463/6463 [24:18<00:00,  4.43it/s]\n100%|██████████| 1671/1671 [01:46<00:00, 15.73it/s]\n",
          "output_type": "stream"
        },
        {
          "name": "stdout",
          "text": "epoch:  8 loss：  0.009 accuracy: 0.989 test_loss：  0.035 test_accuracy: 0.974\n",
          "output_type": "stream"
        },
        {
          "name": "stderr",
          "text": "100%|██████████| 6463/6463 [24:35<00:00,  4.38it/s]\n100%|██████████| 1671/1671 [01:51<00:00, 14.97it/s]\n",
          "output_type": "stream"
        },
        {
          "name": "stdout",
          "text": "epoch:  9 loss：  0.008 accuracy: 0.99 test_loss：  0.038 test_accuracy: 0.969\n",
          "output_type": "stream"
        }
      ]
    },
    {
      "cell_type": "code",
      "source": [
        "plt.plot(range(1, epochs+1), train_loss, label='train_loss')\n",
        "plt.plot(range(1, epochs+1), test_loss, label='test_loss')\n",
        "plt.legend()\n",
        "plt.plot(range(1, epochs+1), train_acc, label='train_acc')\n",
        "plt.plot(range(1, epochs+1), test_acc, label='test_acc')\n",
        "plt.legend()\n",
        "plt.show()"
      ],
      "metadata": {
        "execution": {
          "iopub.status.busy": "2023-01-07T20:55:44.779793Z",
          "iopub.execute_input": "2023-01-07T20:55:44.780170Z",
          "iopub.status.idle": "2023-01-07T20:55:44.990529Z",
          "shell.execute_reply.started": "2023-01-07T20:55:44.780140Z",
          "shell.execute_reply": "2023-01-07T20:55:44.989651Z"
        },
        "trusted": true,
        "id": "06mLXFxaeEeh",
        "outputId": "fbc048d8-2139-4497-8ac3-cf972af9e7b0"
      },
      "execution_count": null,
      "outputs": [
        {
          "output_type": "display_data",
          "data": {
            "text/plain": "<Figure size 432x288 with 1 Axes>",
            "image/png": "[encoded data removed]"
          },
          "metadata": {
            "needs_background": "light"
          }
        }
      ]
    },
    {
      "cell_type": "code",
      "source": [],
      "metadata": {
        "id": "UAr6oVRReEeh"
      },
      "execution_count": null,
      "outputs": []
    }
  ]
}